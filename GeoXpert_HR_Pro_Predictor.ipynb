{
  "nbformat": 4,
  "nbformat_minor": 0,
  "metadata": {
    "colab": {
      "provenance": []
    },
    "kernelspec": {
      "name": "python3",
      "display_name": "Python 3"
    },
    "language_info": {
      "name": "python"
    }
  },
  "cells": [
    {
      "cell_type": "code",
      "source": [
        "import pandas as pd\n",
        "import numpy as np\n",
        "import matplotlib.pyplot as plt\n",
        "import seaborn as sns\n",
        "from sklearn.model_selection import train_test_split\n",
        "from sklearn.preprocessing import OneHotEncoder, StandardScaler\n",
        "from sklearn.ensemble import RandomForestClassifier\n",
        "from sklearn.metrics import accuracy_score, classification_report, confusion_matrix\n",
        "import joblib\n",
        "from google.colab import files"
      ],
      "metadata": {
        "id": "AqnKk2Wdhc0f"
      },
      "execution_count": 1,
      "outputs": []
    },
    {
      "cell_type": "code",
      "source": [
        "from google.colab import drive\n",
        "drive.mount('/content/gdrive')"
      ],
      "metadata": {
        "colab": {
          "base_uri": "https://localhost:8080/"
        },
        "id": "BR0avYRnhmPp",
        "outputId": "b3fa944a-c112-4373-8a67-5daa1f4f5229"
      },
      "execution_count": 2,
      "outputs": [
        {
          "output_type": "stream",
          "name": "stdout",
          "text": [
            "Mounted at /content/gdrive\n"
          ]
        }
      ]
    },
    {
      "cell_type": "code",
      "source": [
        "# Load the dataset\n",
        "df = pd.read_csv(\"gdrive/My Drive/Colab Notebooks/New folder/employee_dataset(9).csv\")\n",
        "\n",
        "# Display the first few rows\n",
        "print(df.head())\n"
      ],
      "metadata": {
        "colab": {
          "base_uri": "https://localhost:8080/"
        },
        "id": "dLsFZFg9hh8I",
        "outputId": "63945243-e734-4dc1-94a7-dc6e4841ad5f"
      },
      "execution_count": 3,
      "outputs": [
        {
          "output_type": "stream",
          "name": "stdout",
          "text": [
            "   EmployeeID  Age Department  YearsOfService EducationLevel  \\\n",
            "0           1   50         IT               6         Master   \n",
            "1           2   36  Marketing              11       Bachelor   \n",
            "2           3   29         HR              11       Bachelor   \n",
            "3           4   42         IT              10         Master   \n",
            "4           5   40         IT              12      Associate   \n",
            "\n",
            "   NumberOfLeavesTaken  AttendancePercentage           ContractStartDate  \\\n",
            "0                   12                    93  2015-05-27 19:27:50.852538   \n",
            "1                    7                    90  2022-03-19 19:27:50.852557   \n",
            "2                    8                    76  2023-08-19 19:27:50.852562   \n",
            "3                   19                    75  2015-11-19 19:27:50.852566   \n",
            "4                    1                    77  2019-11-04 19:27:50.852570   \n",
            "\n",
            "   PerformanceRating                  JobTitle  DaysSinceStart  \\\n",
            "0                  5                 Architech            3584   \n",
            "1                  3         Marketing Manager            1096   \n",
            "2                  5              HR Assistant             578   \n",
            "3                  3           Project Manager            3408   \n",
            "4                  5  Senior Software Engineer            1962   \n",
            "\n",
            "   LeavePercentage  PromotionEligible  Turnover  \n",
            "0         6.110491               True     False  \n",
            "1        11.656022              False     False  \n",
            "2        25.259516               True     False  \n",
            "3        10.174589              False     False  \n",
            "4         0.930173               True     False  \n"
          ]
        }
      ]
    },
    {
      "cell_type": "code",
      "source": [
        "# Check for null values\n",
        "print(df.isnull().sum())"
      ],
      "metadata": {
        "colab": {
          "base_uri": "https://localhost:8080/"
        },
        "id": "zvYybuo4Zsfn",
        "outputId": "ba9273f2-a7dc-43fe-c38d-a30ad25a8a7f"
      },
      "execution_count": 4,
      "outputs": [
        {
          "output_type": "stream",
          "name": "stdout",
          "text": [
            "EmployeeID              0\n",
            "Age                     0\n",
            "Department              0\n",
            "YearsOfService          0\n",
            "EducationLevel          0\n",
            "NumberOfLeavesTaken     0\n",
            "AttendancePercentage    0\n",
            "ContractStartDate       0\n",
            "PerformanceRating       0\n",
            "JobTitle                0\n",
            "DaysSinceStart          0\n",
            "LeavePercentage         0\n",
            "PromotionEligible       0\n",
            "Turnover                0\n",
            "dtype: int64\n",
            "0\n"
          ]
        }
      ]
    },
    {
      "cell_type": "code",
      "source": [
        "# Check for duplicates\n",
        "print(df.duplicated().sum())"
      ],
      "metadata": {
        "colab": {
          "base_uri": "https://localhost:8080/"
        },
        "id": "suF3raLYaCl_",
        "outputId": "429236d0-c9c2-4146-97d0-582f282b59d2"
      },
      "execution_count": 5,
      "outputs": [
        {
          "output_type": "stream",
          "name": "stdout",
          "text": [
            "0\n"
          ]
        }
      ]
    },
    {
      "cell_type": "code",
      "source": [
        "df.info()"
      ],
      "metadata": {
        "colab": {
          "base_uri": "https://localhost:8080/"
        },
        "id": "qhzBSG2WkyEp",
        "outputId": "a0c39190-7e83-4a8d-86db-5b81e5679424"
      },
      "execution_count": null,
      "outputs": [
        {
          "output_type": "stream",
          "name": "stdout",
          "text": [
            "<class 'pandas.core.frame.DataFrame'>\n",
            "RangeIndex: 10000 entries, 0 to 9999\n",
            "Data columns (total 14 columns):\n",
            " #   Column                Non-Null Count  Dtype  \n",
            "---  ------                --------------  -----  \n",
            " 0   EmployeeID            10000 non-null  int64  \n",
            " 1   Age                   10000 non-null  int64  \n",
            " 2   Department            10000 non-null  object \n",
            " 3   YearsOfService        10000 non-null  int64  \n",
            " 4   EducationLevel        10000 non-null  object \n",
            " 5   NumberOfLeavesTaken   10000 non-null  int64  \n",
            " 6   AttendancePercentage  10000 non-null  int64  \n",
            " 7   ContractStartDate     10000 non-null  object \n",
            " 8   PerformanceRating     10000 non-null  int64  \n",
            " 9   JobTitle              10000 non-null  object \n",
            " 10  DaysSinceStart        10000 non-null  int64  \n",
            " 11  LeavePercentage       10000 non-null  float64\n",
            " 12  PromotionEligible     10000 non-null  bool   \n",
            " 13  Turnover              10000 non-null  bool   \n",
            "dtypes: bool(2), float64(1), int64(7), object(4)\n",
            "memory usage: 957.2+ KB\n"
          ]
        }
      ]
    },
    {
      "cell_type": "code",
      "source": [
        "# Define categorical and numerical features\n",
        "categorical_features = ['Department', 'EducationLevel', 'JobTitle', 'DaysSinceStart']\n",
        "numerical_features = ['Age', 'YearsOfService', 'NumberOfLeavesTaken', 'AttendancePercentage', 'PerformanceRating', 'LeavePercentage', 'DaysSinceStart']\n",
        "\n",
        "# Initialize OneHotEncoder\n",
        "one_hot_encoder = OneHotEncoder(handle_unknown=\"ignore\", sparse_output=False)\n",
        "\n",
        "# Fit and transform categorical features\n",
        "encoded_categorical_data = one_hot_encoder.fit_transform(df[categorical_features])"
      ],
      "metadata": {
        "id": "q7HBLDlghpcD"
      },
      "execution_count": null,
      "outputs": []
    },
    {
      "cell_type": "code",
      "source": [
        "# drop unwanted column\n",
        "df = df.drop(columns=['EmployeeID','ContractStartDate'])\n"
      ],
      "metadata": {
        "id": "dRD2tl6AhrcW"
      },
      "execution_count": null,
      "outputs": []
    },
    {
      "cell_type": "code",
      "source": [
        "# Scale numerical features\n",
        "scaler = StandardScaler()\n",
        "scaled_numerical_data = scaler.fit_transform(df[numerical_features])\n",
        "\n",
        "# Combine encoded categorical and scaled numerical data\n",
        "X = np.hstack([encoded_categorical_data, scaled_numerical_data])"
      ],
      "metadata": {
        "id": "lKGgmB5Ihs4v"
      },
      "execution_count": null,
      "outputs": []
    },
    {
      "cell_type": "code",
      "source": [
        "df.info()"
      ],
      "metadata": {
        "colab": {
          "base_uri": "https://localhost:8080/"
        },
        "id": "uuFzkP9v46Qe",
        "outputId": "bd07f263-ce7e-4062-f555-591d6b2dca69"
      },
      "execution_count": null,
      "outputs": [
        {
          "output_type": "stream",
          "name": "stdout",
          "text": [
            "<class 'pandas.core.frame.DataFrame'>\n",
            "RangeIndex: 10000 entries, 0 to 9999\n",
            "Data columns (total 12 columns):\n",
            " #   Column                Non-Null Count  Dtype  \n",
            "---  ------                --------------  -----  \n",
            " 0   Age                   10000 non-null  int64  \n",
            " 1   Department            10000 non-null  object \n",
            " 2   YearsOfService        10000 non-null  int64  \n",
            " 3   EducationLevel        10000 non-null  object \n",
            " 4   NumberOfLeavesTaken   10000 non-null  int64  \n",
            " 5   AttendancePercentage  10000 non-null  int64  \n",
            " 6   PerformanceRating     10000 non-null  int64  \n",
            " 7   JobTitle              10000 non-null  object \n",
            " 8   DaysSinceStart        10000 non-null  int64  \n",
            " 9   LeavePercentage       10000 non-null  float64\n",
            " 10  PromotionEligible     10000 non-null  bool   \n",
            " 11  Turnover              10000 non-null  bool   \n",
            "dtypes: bool(2), float64(1), int64(6), object(3)\n",
            "memory usage: 800.9+ KB\n"
          ]
        }
      ]
    },
    {
      "cell_type": "code",
      "source": [
        "# Define target variables\n",
        "y_turnover = df['Turnover']\n",
        "y_promotion = df['PromotionEligible']\n",
        "\n",
        "# Split the data into training and testing sets\n",
        "X_train, X_test, y_train_turnover, y_test_turnover = train_test_split(X, y_turnover, test_size=0.2, random_state=42)\n",
        "X_train, X_test, y_train_promotion, y_test_promotion = train_test_split(X, y_promotion, test_size=0.2, random_state=42)"
      ],
      "metadata": {
        "id": "PW-2mNUNhulP"
      },
      "execution_count": null,
      "outputs": []
    },
    {
      "cell_type": "code",
      "source": [
        "# Train the Turnover Model\n",
        "turnover_model = RandomForestClassifier(n_estimators=100, random_state=42)\n",
        "turnover_model.fit(X_train, y_train_turnover)\n",
        "\n",
        "# Predictions for Turnover\n",
        "y_pred_turnover = turnover_model.predict(X_test)\n",
        "\n",
        "# Evaluation for Turnover\n",
        "print(\"Turnover Prediction Accuracy:\", accuracy_score(y_test_turnover, y_pred_turnover))\n",
        "print(classification_report(y_test_turnover, y_pred_turnover))"
      ],
      "metadata": {
        "colab": {
          "base_uri": "https://localhost:8080/"
        },
        "id": "HwSbEukehwHZ",
        "outputId": "c8acff96-ac4c-4f33-fcba-1c37ec28c173"
      },
      "execution_count": null,
      "outputs": [
        {
          "output_type": "stream",
          "name": "stdout",
          "text": [
            "Turnover Prediction Accuracy: 0.9445\n",
            "              precision    recall  f1-score   support\n",
            "\n",
            "       False       0.91      1.00      0.95      1068\n",
            "        True       1.00      0.88      0.94       932\n",
            "\n",
            "    accuracy                           0.94      2000\n",
            "   macro avg       0.95      0.94      0.94      2000\n",
            "weighted avg       0.95      0.94      0.94      2000\n",
            "\n"
          ]
        }
      ]
    },
    {
      "cell_type": "code",
      "source": [
        "# Train the Promotion Model\n",
        "promotion_model = RandomForestClassifier(n_estimators=100, random_state=42)\n",
        "promotion_model.fit(X_train, y_train_promotion)\n",
        "\n",
        "# Predictions for Promotion\n",
        "y_pred_promotion = promotion_model.predict(X_test)\n",
        "\n",
        "# Evaluation for Promotion\n",
        "print(\"Promotion Prediction Accuracy:\", accuracy_score(y_test_promotion, y_pred_promotion))\n",
        "print(classification_report(y_test_promotion, y_pred_promotion))"
      ],
      "metadata": {
        "id": "Tebiq_OOhyRR",
        "colab": {
          "base_uri": "https://localhost:8080/"
        },
        "outputId": "f0d426e8-fcd6-48f9-b7fd-a9ff165b5e1a"
      },
      "execution_count": null,
      "outputs": [
        {
          "output_type": "stream",
          "name": "stdout",
          "text": [
            "Promotion Prediction Accuracy: 0.9055\n",
            "              precision    recall  f1-score   support\n",
            "\n",
            "       False       0.91      0.95      0.93      1330\n",
            "        True       0.89      0.82      0.85       670\n",
            "\n",
            "    accuracy                           0.91      2000\n",
            "   macro avg       0.90      0.88      0.89      2000\n",
            "weighted avg       0.90      0.91      0.90      2000\n",
            "\n"
          ]
        }
      ]
    },
    {
      "cell_type": "code",
      "source": [
        "# Save the models and preprocessing objects\n",
        "joblib.dump(turnover_model, 'turnover_model.pkl')\n",
        "files.download('turnover_model.pkl')\n",
        "joblib.dump(promotion_model, 'promotion_model.pkl')\n",
        "files.download('promotion_model.pkl')\n",
        "joblib.dump(scaler, 'scaler.pkl')\n",
        "files.download('scaler.pkl')\n",
        "joblib.dump(one_hot_encoder, 'one_hot_encoder.pkl')\n",
        "files.download('one_hot_encoder.pkl')"
      ],
      "metadata": {
        "id": "9RgnCugRiWot",
        "colab": {
          "base_uri": "https://localhost:8080/",
          "height": 52
        },
        "outputId": "412c7063-2223-41fc-9c76-ebb39f65d4dd"
      },
      "execution_count": null,
      "outputs": [
        {
          "output_type": "display_data",
          "data": {
            "text/plain": [
              "<IPython.core.display.Javascript object>"
            ],
            "application/javascript": [
              "\n",
              "    async function download(id, filename, size) {\n",
              "      if (!google.colab.kernel.accessAllowed) {\n",
              "        return;\n",
              "      }\n",
              "      const div = document.createElement('div');\n",
              "      const label = document.createElement('label');\n",
              "      label.textContent = `Downloading \"${filename}\": `;\n",
              "      div.appendChild(label);\n",
              "      const progress = document.createElement('progress');\n",
              "      progress.max = size;\n",
              "      div.appendChild(progress);\n",
              "      document.body.appendChild(div);\n",
              "\n",
              "      const buffers = [];\n",
              "      let downloaded = 0;\n",
              "\n",
              "      const channel = await google.colab.kernel.comms.open(id);\n",
              "      // Send a message to notify the kernel that we're ready.\n",
              "      channel.send({})\n",
              "\n",
              "      for await (const message of channel.messages) {\n",
              "        // Send a message to notify the kernel that we're ready.\n",
              "        channel.send({})\n",
              "        if (message.buffers) {\n",
              "          for (const buffer of message.buffers) {\n",
              "            buffers.push(buffer);\n",
              "            downloaded += buffer.byteLength;\n",
              "            progress.value = downloaded;\n",
              "          }\n",
              "        }\n",
              "      }\n",
              "      const blob = new Blob(buffers, {type: 'application/binary'});\n",
              "      const a = document.createElement('a');\n",
              "      a.href = window.URL.createObjectURL(blob);\n",
              "      a.download = filename;\n",
              "      div.appendChild(a);\n",
              "      a.click();\n",
              "      div.remove();\n",
              "    }\n",
              "  "
            ]
          },
          "metadata": {}
        },
        {
          "output_type": "display_data",
          "data": {
            "text/plain": [
              "<IPython.core.display.Javascript object>"
            ],
            "application/javascript": [
              "download(\"download_e8f059ff-b79e-4aa5-a5b0-fa3c8b0e50be\", \"turnover_model.pkl\", 23729481)"
            ]
          },
          "metadata": {}
        },
        {
          "output_type": "display_data",
          "data": {
            "text/plain": [
              "<IPython.core.display.Javascript object>"
            ],
            "application/javascript": [
              "\n",
              "    async function download(id, filename, size) {\n",
              "      if (!google.colab.kernel.accessAllowed) {\n",
              "        return;\n",
              "      }\n",
              "      const div = document.createElement('div');\n",
              "      const label = document.createElement('label');\n",
              "      label.textContent = `Downloading \"${filename}\": `;\n",
              "      div.appendChild(label);\n",
              "      const progress = document.createElement('progress');\n",
              "      progress.max = size;\n",
              "      div.appendChild(progress);\n",
              "      document.body.appendChild(div);\n",
              "\n",
              "      const buffers = [];\n",
              "      let downloaded = 0;\n",
              "\n",
              "      const channel = await google.colab.kernel.comms.open(id);\n",
              "      // Send a message to notify the kernel that we're ready.\n",
              "      channel.send({})\n",
              "\n",
              "      for await (const message of channel.messages) {\n",
              "        // Send a message to notify the kernel that we're ready.\n",
              "        channel.send({})\n",
              "        if (message.buffers) {\n",
              "          for (const buffer of message.buffers) {\n",
              "            buffers.push(buffer);\n",
              "            downloaded += buffer.byteLength;\n",
              "            progress.value = downloaded;\n",
              "          }\n",
              "        }\n",
              "      }\n",
              "      const blob = new Blob(buffers, {type: 'application/binary'});\n",
              "      const a = document.createElement('a');\n",
              "      a.href = window.URL.createObjectURL(blob);\n",
              "      a.download = filename;\n",
              "      div.appendChild(a);\n",
              "      a.click();\n",
              "      div.remove();\n",
              "    }\n",
              "  "
            ]
          },
          "metadata": {}
        },
        {
          "output_type": "display_data",
          "data": {
            "text/plain": [
              "<IPython.core.display.Javascript object>"
            ],
            "application/javascript": [
              "download(\"download_2c246541-6a16-4095-a6c9-e69204684923\", \"promotion_model.pkl\", 33266441)"
            ]
          },
          "metadata": {}
        },
        {
          "output_type": "display_data",
          "data": {
            "text/plain": [
              "<IPython.core.display.Javascript object>"
            ],
            "application/javascript": [
              "\n",
              "    async function download(id, filename, size) {\n",
              "      if (!google.colab.kernel.accessAllowed) {\n",
              "        return;\n",
              "      }\n",
              "      const div = document.createElement('div');\n",
              "      const label = document.createElement('label');\n",
              "      label.textContent = `Downloading \"${filename}\": `;\n",
              "      div.appendChild(label);\n",
              "      const progress = document.createElement('progress');\n",
              "      progress.max = size;\n",
              "      div.appendChild(progress);\n",
              "      document.body.appendChild(div);\n",
              "\n",
              "      const buffers = [];\n",
              "      let downloaded = 0;\n",
              "\n",
              "      const channel = await google.colab.kernel.comms.open(id);\n",
              "      // Send a message to notify the kernel that we're ready.\n",
              "      channel.send({})\n",
              "\n",
              "      for await (const message of channel.messages) {\n",
              "        // Send a message to notify the kernel that we're ready.\n",
              "        channel.send({})\n",
              "        if (message.buffers) {\n",
              "          for (const buffer of message.buffers) {\n",
              "            buffers.push(buffer);\n",
              "            downloaded += buffer.byteLength;\n",
              "            progress.value = downloaded;\n",
              "          }\n",
              "        }\n",
              "      }\n",
              "      const blob = new Blob(buffers, {type: 'application/binary'});\n",
              "      const a = document.createElement('a');\n",
              "      a.href = window.URL.createObjectURL(blob);\n",
              "      a.download = filename;\n",
              "      div.appendChild(a);\n",
              "      a.click();\n",
              "      div.remove();\n",
              "    }\n",
              "  "
            ]
          },
          "metadata": {}
        },
        {
          "output_type": "display_data",
          "data": {
            "text/plain": [
              "<IPython.core.display.Javascript object>"
            ],
            "application/javascript": [
              "download(\"download_340b3fa7-aa9a-4556-b787-a3eba367fe25\", \"scaler.pkl\", 1215)"
            ]
          },
          "metadata": {}
        },
        {
          "output_type": "display_data",
          "data": {
            "text/plain": [
              "<IPython.core.display.Javascript object>"
            ],
            "application/javascript": [
              "\n",
              "    async function download(id, filename, size) {\n",
              "      if (!google.colab.kernel.accessAllowed) {\n",
              "        return;\n",
              "      }\n",
              "      const div = document.createElement('div');\n",
              "      const label = document.createElement('label');\n",
              "      label.textContent = `Downloading \"${filename}\": `;\n",
              "      div.appendChild(label);\n",
              "      const progress = document.createElement('progress');\n",
              "      progress.max = size;\n",
              "      div.appendChild(progress);\n",
              "      document.body.appendChild(div);\n",
              "\n",
              "      const buffers = [];\n",
              "      let downloaded = 0;\n",
              "\n",
              "      const channel = await google.colab.kernel.comms.open(id);\n",
              "      // Send a message to notify the kernel that we're ready.\n",
              "      channel.send({})\n",
              "\n",
              "      for await (const message of channel.messages) {\n",
              "        // Send a message to notify the kernel that we're ready.\n",
              "        channel.send({})\n",
              "        if (message.buffers) {\n",
              "          for (const buffer of message.buffers) {\n",
              "            buffers.push(buffer);\n",
              "            downloaded += buffer.byteLength;\n",
              "            progress.value = downloaded;\n",
              "          }\n",
              "        }\n",
              "      }\n",
              "      const blob = new Blob(buffers, {type: 'application/binary'});\n",
              "      const a = document.createElement('a');\n",
              "      a.href = window.URL.createObjectURL(blob);\n",
              "      a.download = filename;\n",
              "      div.appendChild(a);\n",
              "      a.click();\n",
              "      div.remove();\n",
              "    }\n",
              "  "
            ]
          },
          "metadata": {}
        },
        {
          "output_type": "display_data",
          "data": {
            "text/plain": [
              "<IPython.core.display.Javascript object>"
            ],
            "application/javascript": [
              "download(\"download_61fc8758-f8bf-49c1-b61a-28a6486a6af4\", \"one_hot_encoder.pkl\", 27289)"
            ]
          },
          "metadata": {}
        }
      ]
    }
  ]
}